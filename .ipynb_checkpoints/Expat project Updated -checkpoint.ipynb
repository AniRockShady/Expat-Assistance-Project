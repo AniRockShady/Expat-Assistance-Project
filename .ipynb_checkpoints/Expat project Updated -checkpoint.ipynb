{
 "cells": [
  {
   "cell_type": "code",
   "execution_count": 3,
   "id": "ecc448e3",
   "metadata": {},
   "outputs": [
    {
     "name": "stdout",
     "output_type": "stream",
     "text": [
      " * Serving Flask app \"__main__\" (lazy loading)\n",
      " * Environment: production\n",
      "\u001b[31m   WARNING: This is a development server. Do not use it in a production deployment.\u001b[0m\n",
      "\u001b[2m   Use a production WSGI server instead.\u001b[0m\n",
      " * Debug mode: on\n"
     ]
    },
    {
     "name": "stderr",
     "output_type": "stream",
     "text": [
      " * Running on http://localhost:8081/ (Press CTRL+C to quit)\n",
      "127.0.0.1 - - [22/Jan/2023 16:04:12] \"GET / HTTP/1.1\" 200 -\n"
     ]
    },
    {
     "name": "stdout",
     "output_type": "stream",
     "text": [
      "SELECT * FROM users WHERE id = 49\n"
     ]
    },
    {
     "name": "stderr",
     "output_type": "stream",
     "text": [
      "127.0.0.1 - - [22/Jan/2023 16:04:23] \"POST /login HTTP/1.1\" 200 -\n"
     ]
    },
    {
     "name": "stdout",
     "output_type": "stream",
     "text": [
      "SELECT * FROM users WHERE id = 49\n",
      "SELECT users.id, consultants.id as \"consultant_id\", users.email, users.pass_hash FROM users LEFT JOIN consultants ON consultants.user_id = users.id where users.email='anirbanshady@gmail.com' AND users.pass_hash='8d969eef6ecad3c29a3a629280e686cf0c3f5d5a86aff3ca12020c923adc6c92'\n",
      "got back user with consulant: ['id', 'consultant_id', 'email', 'pass_hash']\n",
      "got back consultant id: None\n",
      "got back type of user: <class 'sqlite3.Row'>\n",
      "got back user: <sqlite3.Row object at 0x0000020C6FC3F110>\n"
     ]
    },
    {
     "name": "stderr",
     "output_type": "stream",
     "text": [
      "127.0.0.1 - - [22/Jan/2023 16:04:23] \"GET /static/img.jpg HTTP/1.1\" 200 -\n"
     ]
    },
    {
     "name": "stdout",
     "output_type": "stream",
     "text": [
      "SELECT * FROM users WHERE id = 11\n"
     ]
    },
    {
     "name": "stderr",
     "output_type": "stream",
     "text": [
      "127.0.0.1 - - [22/Jan/2023 16:04:33] \"GET /users/11/cases HTTP/1.1\" 200 -\n"
     ]
    },
    {
     "name": "stdout",
     "output_type": "stream",
     "text": [
      "SELECT * FROM users WHERE id = 11\n",
      "SELECT\n",
      "            t.title,\n",
      "            u.first_name as \"user_first_name\",\n",
      "            u.last_name as \"user_last_name\",\n",
      "            a.created_at,\n",
      "            a.updated_at,\n",
      "            c.first_name as \"consultant_first_name\",\n",
      "            c.last_name as \"consultant_last_name\",\n",
      "            c.company_name,\n",
      "            a.status \n",
      "        FROM applications AS a\n",
      "        LEFT JOIN application_types as t \n",
      "        ON a.application_type_id = t.id\n",
      "        LEFT JOIN users AS u\n",
      "        ON a.creator_id = u.id\n",
      "        LEFT JOIN consultants AS c\n",
      "        ON a.assigned_consultant_id = c.id\n",
      "        WHERE a.creator_id = 11\n"
     ]
    },
    {
     "name": "stderr",
     "output_type": "stream",
     "text": [
      "127.0.0.1 - - [22/Jan/2023 16:04:52] \"GET /logout HTTP/1.1\" 302 -\n"
     ]
    },
    {
     "name": "stdout",
     "output_type": "stream",
     "text": [
      "SELECT * FROM users WHERE id = 11\n"
     ]
    },
    {
     "name": "stderr",
     "output_type": "stream",
     "text": [
      "127.0.0.1 - - [22/Jan/2023 16:04:52] \"GET / HTTP/1.1\" 200 -\n",
      "127.0.0.1 - - [22/Jan/2023 16:05:00] \"POST /login HTTP/1.1\" 200 -\n"
     ]
    },
    {
     "name": "stdout",
     "output_type": "stream",
     "text": [
      "SELECT users.id, consultants.id as \"consultant_id\", users.email, users.pass_hash FROM users LEFT JOIN consultants ON consultants.user_id = users.id where users.email='anirbanshady@gmail.com' AND users.pass_hash='8d969eef6ecad3c29a3a629280e686cf0c3f5d5a86aff3ca12020c923adc6c92'\n",
      "got back user with consulant: ['id', 'consultant_id', 'email', 'pass_hash']\n",
      "got back consultant id: None\n",
      "got back type of user: <class 'sqlite3.Row'>\n",
      "got back user: <sqlite3.Row object at 0x0000020C6FC3FBD0>\n"
     ]
    },
    {
     "name": "stderr",
     "output_type": "stream",
     "text": [
      "127.0.0.1 - - [22/Jan/2023 16:05:01] \"GET /static/img.jpg HTTP/1.1\" 200 -\n"
     ]
    },
    {
     "name": "stdout",
     "output_type": "stream",
     "text": [
      "SELECT * FROM users WHERE id = 11\n"
     ]
    },
    {
     "name": "stderr",
     "output_type": "stream",
     "text": [
      "127.0.0.1 - - [22/Jan/2023 16:05:03] \"GET /users/11/select_application HTTP/1.1\" 200 -\n"
     ]
    },
    {
     "name": "stdout",
     "output_type": "stream",
     "text": [
      "SELECT * FROM users WHERE id = 11\n",
      "SELECT id, title FROM application_types\n"
     ]
    },
    {
     "name": "stderr",
     "output_type": "stream",
     "text": [
      "127.0.0.1 - - [22/Jan/2023 16:05:08] \"GET /users/11/applications/1/create HTTP/1.1\" 200 -\n"
     ]
    },
    {
     "name": "stdout",
     "output_type": "stream",
     "text": [
      "SELECT * FROM users WHERE id = 11\n",
      "SELECT title, id, required FROM questions WHERE application_type_id = 1\n"
     ]
    },
    {
     "name": "stderr",
     "output_type": "stream",
     "text": [
      "127.0.0.1 - - [22/Jan/2023 16:05:08] \"GET /static/img3.jpg HTTP/1.1\" 200 -\n"
     ]
    },
    {
     "name": "stdout",
     "output_type": "stream",
     "text": [
      "SELECT * FROM users WHERE id = 11\n"
     ]
    },
    {
     "name": "stderr",
     "output_type": "stream",
     "text": [
      "127.0.0.1 - - [22/Jan/2023 16:05:13] \"POST /users/11/applications/1/submit HTTP/1.1\" 200 -\n"
     ]
    },
    {
     "name": "stdout",
     "output_type": "stream",
     "text": [
      "SELECT * FROM users WHERE id = 11\n",
      "inserted application with id: 50\n",
      "inserted application response with id: 421\n",
      "inserted application response with id: 422\n",
      "inserted application response with id: 423\n",
      "inserted application response with id: 424\n",
      "inserted application response with id: 425\n",
      "inserted application response with id: 426\n",
      "inserted application response with id: 427\n",
      "inserted application response with id: 428\n",
      "inserted application response with id: 429\n",
      "inserted application response with id: 430\n",
      "inserted application response with id: 431\n",
      "inserted application response with id: 432\n"
     ]
    },
    {
     "name": "stderr",
     "output_type": "stream",
     "text": [
      "127.0.0.1 - - [22/Jan/2023 16:05:13] \"GET /static/img4.jpg HTTP/1.1\" 200 -\n"
     ]
    },
    {
     "name": "stdout",
     "output_type": "stream",
     "text": [
      "SELECT * FROM users WHERE id = 11\n"
     ]
    },
    {
     "name": "stderr",
     "output_type": "stream",
     "text": [
      "127.0.0.1 - - [22/Jan/2023 16:05:19] \"GET /users/11/cases HTTP/1.1\" 200 -\n"
     ]
    },
    {
     "name": "stdout",
     "output_type": "stream",
     "text": [
      "SELECT * FROM users WHERE id = 11\n",
      "SELECT\n",
      "            t.title,\n",
      "            u.first_name as \"user_first_name\",\n",
      "            u.last_name as \"user_last_name\",\n",
      "            a.created_at,\n",
      "            a.updated_at,\n",
      "            c.first_name as \"consultant_first_name\",\n",
      "            c.last_name as \"consultant_last_name\",\n",
      "            c.company_name,\n",
      "            a.status \n",
      "        FROM applications AS a\n",
      "        LEFT JOIN application_types as t \n",
      "        ON a.application_type_id = t.id\n",
      "        LEFT JOIN users AS u\n",
      "        ON a.creator_id = u.id\n",
      "        LEFT JOIN consultants AS c\n",
      "        ON a.assigned_consultant_id = c.id\n",
      "        WHERE a.creator_id = 11\n"
     ]
    },
    {
     "name": "stderr",
     "output_type": "stream",
     "text": [
      "127.0.0.1 - - [22/Jan/2023 16:05:26] \"GET /logout HTTP/1.1\" 302 -\n"
     ]
    },
    {
     "name": "stdout",
     "output_type": "stream",
     "text": [
      "SELECT * FROM users WHERE id = 11\n"
     ]
    },
    {
     "name": "stderr",
     "output_type": "stream",
     "text": [
      "127.0.0.1 - - [22/Jan/2023 16:05:27] \"GET / HTTP/1.1\" 200 -\n",
      "127.0.0.1 - - [22/Jan/2023 16:05:33] \"GET /logout HTTP/1.1\" 500 -\n",
      "Traceback (most recent call last):\n",
      "  File \"C:\\Users\\mraer\\anaconda3\\Lib\\site-packages\\flask\\app.py\", line 2464, in __call__\n",
      "    return self.wsgi_app(environ, start_response)\n",
      "  File \"C:\\Users\\mraer\\anaconda3\\Lib\\site-packages\\flask\\app.py\", line 2450, in wsgi_app\n",
      "    response = self.handle_exception(e)\n",
      "  File \"C:\\Users\\mraer\\anaconda3\\Lib\\site-packages\\flask\\app.py\", line 1867, in handle_exception\n",
      "    reraise(exc_type, exc_value, tb)\n",
      "  File \"C:\\Users\\mraer\\anaconda3\\Lib\\site-packages\\flask\\_compat.py\", line 39, in reraise\n",
      "    raise value\n",
      "  File \"C:\\Users\\mraer\\anaconda3\\Lib\\site-packages\\flask\\app.py\", line 2447, in wsgi_app\n",
      "    response = self.full_dispatch_request()\n",
      "  File \"C:\\Users\\mraer\\anaconda3\\Lib\\site-packages\\flask\\app.py\", line 1953, in full_dispatch_request\n",
      "    return self.finalize_request(rv)\n",
      "  File \"C:\\Users\\mraer\\anaconda3\\Lib\\site-packages\\flask\\app.py\", line 1968, in finalize_request\n",
      "    response = self.make_response(rv)\n",
      "  File \"C:\\Users\\mraer\\anaconda3\\Lib\\site-packages\\flask\\app.py\", line 2097, in make_response\n",
      "    raise TypeError(\n",
      "TypeError: The view function did not return a valid response. The function either returned None or ended without a return statement.\n",
      "127.0.0.1 - - [22/Jan/2023 16:05:33] \"GET /logout?__debugger__=yes&cmd=resource&f=style.css HTTP/1.1\" 200 -\n",
      "127.0.0.1 - - [22/Jan/2023 16:05:33] \"GET /logout?__debugger__=yes&cmd=resource&f=debugger.js HTTP/1.1\" 200 -\n",
      "127.0.0.1 - - [22/Jan/2023 16:05:33] \"GET /logout?__debugger__=yes&cmd=resource&f=ubuntu.ttf HTTP/1.1\" 200 -\n",
      "127.0.0.1 - - [22/Jan/2023 16:05:34] \"GET /logout?__debugger__=yes&cmd=resource&f=console.png HTTP/1.1\" 200 -\n",
      "127.0.0.1 - - [22/Jan/2023 16:05:34] \"GET /logout?__debugger__=yes&cmd=resource&f=console.png HTTP/1.1\" 200 -\n",
      "127.0.0.1 - - [22/Jan/2023 16:05:38] \"GET /logout HTTP/1.1\" 500 -\n",
      "Traceback (most recent call last):\n",
      "  File \"C:\\Users\\mraer\\anaconda3\\Lib\\site-packages\\flask\\app.py\", line 2464, in __call__\n",
      "    return self.wsgi_app(environ, start_response)\n",
      "  File \"C:\\Users\\mraer\\anaconda3\\Lib\\site-packages\\flask\\app.py\", line 2450, in wsgi_app\n",
      "    response = self.handle_exception(e)\n",
      "  File \"C:\\Users\\mraer\\anaconda3\\Lib\\site-packages\\flask\\app.py\", line 1867, in handle_exception\n",
      "    reraise(exc_type, exc_value, tb)\n",
      "  File \"C:\\Users\\mraer\\anaconda3\\Lib\\site-packages\\flask\\_compat.py\", line 39, in reraise\n",
      "    raise value\n",
      "  File \"C:\\Users\\mraer\\anaconda3\\Lib\\site-packages\\flask\\app.py\", line 2447, in wsgi_app\n",
      "    response = self.full_dispatch_request()\n",
      "  File \"C:\\Users\\mraer\\anaconda3\\Lib\\site-packages\\flask\\app.py\", line 1953, in full_dispatch_request\n",
      "    return self.finalize_request(rv)\n",
      "  File \"C:\\Users\\mraer\\anaconda3\\Lib\\site-packages\\flask\\app.py\", line 1968, in finalize_request\n",
      "    response = self.make_response(rv)\n",
      "  File \"C:\\Users\\mraer\\anaconda3\\Lib\\site-packages\\flask\\app.py\", line 2097, in make_response\n",
      "    raise TypeError(\n",
      "TypeError: The view function did not return a valid response. The function either returned None or ended without a return statement.\n",
      "127.0.0.1 - - [22/Jan/2023 16:05:38] \"GET /logout?__debugger__=yes&cmd=resource&f=style.css HTTP/1.1\" 200 -\n",
      "127.0.0.1 - - [22/Jan/2023 16:05:38] \"GET /logout?__debugger__=yes&cmd=resource&f=debugger.js HTTP/1.1\" 200 -\n",
      "127.0.0.1 - - [22/Jan/2023 16:05:38] \"GET /logout?__debugger__=yes&cmd=resource&f=ubuntu.ttf HTTP/1.1\" 200 -\n",
      "127.0.0.1 - - [22/Jan/2023 16:05:38] \"GET /logout?__debugger__=yes&cmd=resource&f=console.png HTTP/1.1\" 200 -\n",
      "127.0.0.1 - - [22/Jan/2023 16:05:39] \"GET /logout?__debugger__=yes&cmd=resource&f=console.png HTTP/1.1\" 200 -\n",
      "127.0.0.1 - - [22/Jan/2023 16:05:42] \"GET /users/11/applications/1/create HTTP/1.1\" 302 -\n",
      "127.0.0.1 - - [22/Jan/2023 16:05:50] \"GET /About HTTP/1.1\" 200 -\n",
      "127.0.0.1 - - [22/Jan/2023 16:05:51] \"GET /static/status_graph.png HTTP/1.1\" 200 -\n",
      "127.0.0.1 - - [22/Jan/2023 16:06:09] \"GET / HTTP/1.1\" 200 -\n",
      "127.0.0.1 - - [22/Jan/2023 16:06:37] \"POST /registered HTTP/1.1\" 302 -\n",
      "127.0.0.1 - - [22/Jan/2023 16:06:37] \"GET /users/50/select_application HTTP/1.1\" 200 -\n"
     ]
    },
    {
     "name": "stdout",
     "output_type": "stream",
     "text": [
      "SELECT * FROM users WHERE id = 50\n",
      "SELECT id, title FROM application_types\n"
     ]
    },
    {
     "name": "stderr",
     "output_type": "stream",
     "text": [
      "127.0.0.1 - - [22/Jan/2023 16:06:40] \"GET /users/50/applications/1/create HTTP/1.1\" 200 -\n"
     ]
    },
    {
     "name": "stdout",
     "output_type": "stream",
     "text": [
      "SELECT * FROM users WHERE id = 50\n",
      "SELECT title, id, required FROM questions WHERE application_type_id = 1\n"
     ]
    },
    {
     "name": "stderr",
     "output_type": "stream",
     "text": [
      "127.0.0.1 - - [22/Jan/2023 16:06:41] \"GET /static/img3.jpg HTTP/1.1\" 200 -\n"
     ]
    },
    {
     "name": "stdout",
     "output_type": "stream",
     "text": [
      "SELECT * FROM users WHERE id = 50\n"
     ]
    },
    {
     "name": "stderr",
     "output_type": "stream",
     "text": [
      "127.0.0.1 - - [22/Jan/2023 16:06:44] \"POST /users/50/applications/1/submit HTTP/1.1\" 200 -\n"
     ]
    },
    {
     "name": "stdout",
     "output_type": "stream",
     "text": [
      "SELECT * FROM users WHERE id = 50\n",
      "inserted application with id: 51\n",
      "inserted application response with id: 433\n",
      "inserted application response with id: 434\n",
      "inserted application response with id: 435\n",
      "inserted application response with id: 436\n",
      "inserted application response with id: 437\n",
      "inserted application response with id: 438\n",
      "inserted application response with id: 439\n",
      "inserted application response with id: 440\n",
      "inserted application response with id: 441\n",
      "inserted application response with id: 442\n",
      "inserted application response with id: 443\n",
      "inserted application response with id: 444\n"
     ]
    },
    {
     "name": "stderr",
     "output_type": "stream",
     "text": [
      "127.0.0.1 - - [22/Jan/2023 16:06:44] \"GET /static/img4.jpg HTTP/1.1\" 200 -\n"
     ]
    },
    {
     "name": "stdout",
     "output_type": "stream",
     "text": [
      "SELECT * FROM users WHERE id = 50\n"
     ]
    },
    {
     "name": "stderr",
     "output_type": "stream",
     "text": [
      "127.0.0.1 - - [22/Jan/2023 16:06:49] \"GET /users/50/cases HTTP/1.1\" 200 -\n"
     ]
    },
    {
     "name": "stdout",
     "output_type": "stream",
     "text": [
      "SELECT * FROM users WHERE id = 50\n",
      "SELECT\n",
      "            t.title,\n",
      "            u.first_name as \"user_first_name\",\n",
      "            u.last_name as \"user_last_name\",\n",
      "            a.created_at,\n",
      "            a.updated_at,\n",
      "            c.first_name as \"consultant_first_name\",\n",
      "            c.last_name as \"consultant_last_name\",\n",
      "            c.company_name,\n",
      "            a.status \n",
      "        FROM applications AS a\n",
      "        LEFT JOIN application_types as t \n",
      "        ON a.application_type_id = t.id\n",
      "        LEFT JOIN users AS u\n",
      "        ON a.creator_id = u.id\n",
      "        LEFT JOIN consultants AS c\n",
      "        ON a.assigned_consultant_id = c.id\n",
      "        WHERE a.creator_id = 50\n"
     ]
    },
    {
     "name": "stderr",
     "output_type": "stream",
     "text": [
      "127.0.0.1 - - [22/Jan/2023 16:07:02] \"GET /logout HTTP/1.1\" 302 -\n"
     ]
    },
    {
     "name": "stdout",
     "output_type": "stream",
     "text": [
      "SELECT * FROM users WHERE id = 50\n"
     ]
    },
    {
     "name": "stderr",
     "output_type": "stream",
     "text": [
      "127.0.0.1 - - [22/Jan/2023 16:07:02] \"GET / HTTP/1.1\" 200 -\n",
      "127.0.0.1 - - [22/Jan/2023 16:07:07] \"GET /users/11/cases HTTP/1.1\" 302 -\n",
      "127.0.0.1 - - [22/Jan/2023 16:07:07] \"GET / HTTP/1.1\" 200 -\n",
      "127.0.0.1 - - [22/Jan/2023 17:10:37] \"POST /login HTTP/1.1\" 200 -\n"
     ]
    },
    {
     "name": "stdout",
     "output_type": "stream",
     "text": [
      "SELECT users.id, consultants.id as \"consultant_id\", users.email, users.pass_hash FROM users LEFT JOIN consultants ON consultants.user_id = users.id where users.email='anirbanshady@gmail.com' AND users.pass_hash='8d969eef6ecad3c29a3a629280e686cf0c3f5d5a86aff3ca12020c923adc6c92'\n",
      "got back user with consulant: ['id', 'consultant_id', 'email', 'pass_hash']\n",
      "got back consultant id: None\n",
      "got back type of user: <class 'sqlite3.Row'>\n",
      "got back user: <sqlite3.Row object at 0x0000020C7053BAD0>\n"
     ]
    },
    {
     "name": "stderr",
     "output_type": "stream",
     "text": [
      "127.0.0.1 - - [22/Jan/2023 17:10:37] \"GET /static/img.jpg HTTP/1.1\" 200 -\n"
     ]
    },
    {
     "name": "stdout",
     "output_type": "stream",
     "text": [
      "SELECT * FROM users WHERE id = 11\n"
     ]
    },
    {
     "name": "stderr",
     "output_type": "stream",
     "text": [
      "127.0.0.1 - - [22/Jan/2023 17:10:42] \"GET /users/11/select_application HTTP/1.1\" 200 -\n"
     ]
    },
    {
     "name": "stdout",
     "output_type": "stream",
     "text": [
      "SELECT * FROM users WHERE id = 11\n",
      "SELECT id, title FROM application_types\n"
     ]
    },
    {
     "name": "stderr",
     "output_type": "stream",
     "text": [
      "127.0.0.1 - - [22/Jan/2023 17:14:21] \"GET /users/11/applications/1/create HTTP/1.1\" 200 -\n"
     ]
    },
    {
     "name": "stdout",
     "output_type": "stream",
     "text": [
      "SELECT * FROM users WHERE id = 11\n",
      "SELECT title, id, required FROM questions WHERE application_type_id = 1\n"
     ]
    },
    {
     "name": "stderr",
     "output_type": "stream",
     "text": [
      "127.0.0.1 - - [22/Jan/2023 17:14:21] \"GET /static/img3.jpg HTTP/1.1\" 200 -\n"
     ]
    },
    {
     "name": "stdout",
     "output_type": "stream",
     "text": [
      "SELECT * FROM users WHERE id = 11\n"
     ]
    },
    {
     "name": "stderr",
     "output_type": "stream",
     "text": [
      "127.0.0.1 - - [22/Jan/2023 17:16:22] \"POST /users/11/applications/1/submit HTTP/1.1\" 200 -\n"
     ]
    },
    {
     "name": "stdout",
     "output_type": "stream",
     "text": [
      "SELECT * FROM users WHERE id = 11\n",
      "inserted application with id: 52\n",
      "inserted application response with id: 445\n",
      "inserted application response with id: 446\n",
      "inserted application response with id: 447\n",
      "inserted application response with id: 448\n",
      "inserted application response with id: 449\n",
      "inserted application response with id: 450\n",
      "inserted application response with id: 451\n",
      "inserted application response with id: 452\n",
      "inserted application response with id: 453\n",
      "inserted application response with id: 454\n",
      "inserted application response with id: 455\n",
      "inserted application response with id: 456\n"
     ]
    },
    {
     "name": "stderr",
     "output_type": "stream",
     "text": [
      "127.0.0.1 - - [22/Jan/2023 17:16:22] \"GET /static/img4.jpg HTTP/1.1\" 200 -\n"
     ]
    },
    {
     "name": "stdout",
     "output_type": "stream",
     "text": [
      "SELECT * FROM users WHERE id = 11\n"
     ]
    },
    {
     "name": "stderr",
     "output_type": "stream",
     "text": [
      "127.0.0.1 - - [22/Jan/2023 17:24:25] \"GET /users/11/cases HTTP/1.1\" 200 -\n"
     ]
    },
    {
     "name": "stdout",
     "output_type": "stream",
     "text": [
      "SELECT * FROM users WHERE id = 11\n",
      "SELECT\n",
      "            t.title,\n",
      "            u.first_name as \"user_first_name\",\n",
      "            u.last_name as \"user_last_name\",\n",
      "            a.created_at,\n",
      "            a.updated_at,\n",
      "            c.first_name as \"consultant_first_name\",\n",
      "            c.last_name as \"consultant_last_name\",\n",
      "            c.company_name,\n",
      "            a.status \n",
      "        FROM applications AS a\n",
      "        LEFT JOIN application_types as t \n",
      "        ON a.application_type_id = t.id\n",
      "        LEFT JOIN users AS u\n",
      "        ON a.creator_id = u.id\n",
      "        LEFT JOIN consultants AS c\n",
      "        ON a.assigned_consultant_id = c.id\n",
      "        WHERE a.creator_id = 11\n"
     ]
    },
    {
     "name": "stderr",
     "output_type": "stream",
     "text": [
      "127.0.0.1 - - [22/Jan/2023 17:25:39] \"GET /logout HTTP/1.1\" 302 -\n"
     ]
    },
    {
     "name": "stdout",
     "output_type": "stream",
     "text": [
      "SELECT * FROM users WHERE id = 11\n"
     ]
    },
    {
     "name": "stderr",
     "output_type": "stream",
     "text": [
      "127.0.0.1 - - [22/Jan/2023 17:25:39] \"GET / HTTP/1.1\" 200 -\n",
      "127.0.0.1 - - [22/Jan/2023 17:27:13] \"POST /login HTTP/1.1\" 302 -\n"
     ]
    },
    {
     "name": "stdout",
     "output_type": "stream",
     "text": [
      "SELECT users.id, consultants.id as \"consultant_id\", users.email, users.pass_hash FROM users LEFT JOIN consultants ON consultants.user_id = users.id where users.email='tkachovapol@gmail.com' AND users.pass_hash='8d969eef6ecad3c29a3a629280e686cf0c3f5d5a86aff3ca12020c923adc6c92'\n"
     ]
    },
    {
     "name": "stderr",
     "output_type": "stream",
     "text": [
      "127.0.0.1 - - [22/Jan/2023 17:27:13] \"GET /consultants/1/cases HTTP/1.1\" 200 -\n"
     ]
    },
    {
     "name": "stdout",
     "output_type": "stream",
     "text": [
      "SELECT * FROM users WHERE id = 1\n",
      "SELECT\n",
      "         a.id, \n",
      "         t.title,\n",
      "         u.first_name AS \"user_first_name\",\n",
      "         u.last_name AS \"user_last_name\",\n",
      "         a.created_at,\n",
      "         a.updated_at, \n",
      "         c.first_name AS \"consultant_first_name\", \n",
      "         c.last_name AS \"consultant_last_name\",\n",
      "         c.company_name, \n",
      "         a.status\n",
      "    FROM applications as a\n",
      "    LEFT JOIN application_types as t\n",
      "    ON a.application_type_id = t.id\n",
      "    LEFT JOIN users as u\n",
      "    ON \ta.creator_id = u.id\n",
      "    LEFT JOIN consultants as c\n",
      "    ON \ta.assigned_consultant_id = c.id \n",
      "    WHERE a.assigned_consultant_id = 1\n"
     ]
    },
    {
     "name": "stderr",
     "output_type": "stream",
     "text": [
      "127.0.0.1 - - [22/Jan/2023 17:33:29] \"GET /consultants/1/cases/1 HTTP/1.1\" 200 -\n"
     ]
    },
    {
     "name": "stdout",
     "output_type": "stream",
     "text": [
      "SELECT * FROM users WHERE id = 1\n",
      "SELECT\n",
      "         a.id, \n",
      "         t.title,\n",
      "         u.first_name AS \"user_first_name\",\n",
      "         u.last_name AS \"user_last_name\",\n",
      "         a.created_at,\n",
      "         a.updated_at, \n",
      "         c.first_name AS \"consultant_first_name\", \n",
      "         c.last_name AS \"consultant_last_name\",\n",
      "         c.company_name, \n",
      "         a.status\n",
      "    FROM applications as a\n",
      "    LEFT JOIN application_types as t\n",
      "    ON a.application_type_id = t.id\n",
      "    LEFT JOIN users as u\n",
      "    ON \ta.creator_id = u.id\n",
      "    LEFT JOIN consultants as c\n",
      "    ON \ta.assigned_consultant_id = c.id \n",
      "    WHERE a.assigned_consultant_id = 1 AND a.id = '1' \n",
      "SELECT\n",
      "            ar.*,\n",
      "            q.title\n",
      "        FROM application_responses as ar\n",
      "        LEFT JOIN questions q ON q.id = ar.question_id\n",
      "        WHERE ar.application_id = '1' \n"
     ]
    },
    {
     "name": "stderr",
     "output_type": "stream",
     "text": [
      "127.0.0.1 - - [22/Jan/2023 17:33:29] \"GET /static/img6.jpg HTTP/1.1\" 200 -\n"
     ]
    },
    {
     "name": "stdout",
     "output_type": "stream",
     "text": [
      "SELECT * FROM users WHERE id = 1\n"
     ]
    },
    {
     "name": "stderr",
     "output_type": "stream",
     "text": [
      "127.0.0.1 - - [22/Jan/2023 17:33:39] \"POST /consultants/1/cases/1 HTTP/1.1\" 200 -\n"
     ]
    },
    {
     "name": "stdout",
     "output_type": "stream",
     "text": [
      "SELECT * FROM users WHERE id = 1\n",
      "SELECT\n",
      "         a.id, \n",
      "         t.title,\n",
      "         u.first_name AS \"user_first_name\",\n",
      "         u.last_name AS \"user_last_name\",\n",
      "         a.created_at,\n",
      "         a.updated_at, \n",
      "         c.first_name AS \"consultant_first_name\", \n",
      "         c.last_name AS \"consultant_last_name\",\n",
      "         c.company_name, \n",
      "         a.status\n",
      "    FROM applications as a\n",
      "    LEFT JOIN application_types as t\n",
      "    ON a.application_type_id = t.id\n",
      "    LEFT JOIN users as u\n",
      "    ON \ta.creator_id = u.id\n",
      "    LEFT JOIN consultants as c\n",
      "    ON \ta.assigned_consultant_id = c.id \n",
      "    WHERE a.assigned_consultant_id = 1 AND a.id = '1' \n",
      "SELECT\n",
      "            ar.*,\n",
      "            q.title\n",
      "        FROM application_responses as ar\n",
      "        LEFT JOIN questions q ON q.id = ar.question_id\n",
      "        WHERE ar.application_id = '1' \n"
     ]
    },
    {
     "name": "stderr",
     "output_type": "stream",
     "text": [
      "127.0.0.1 - - [22/Jan/2023 17:38:18] \"GET /logout HTTP/1.1\" 302 -\n"
     ]
    },
    {
     "name": "stdout",
     "output_type": "stream",
     "text": [
      "SELECT * FROM users WHERE id = 1\n"
     ]
    },
    {
     "name": "stderr",
     "output_type": "stream",
     "text": [
      "127.0.0.1 - - [22/Jan/2023 17:38:18] \"GET / HTTP/1.1\" 200 -\n",
      "127.0.0.1 - - [22/Jan/2023 17:38:53] \"POST /registered HTTP/1.1\" 302 -\n",
      "127.0.0.1 - - [22/Jan/2023 17:38:53] \"GET /users/51/select_application HTTP/1.1\" 200 -\n"
     ]
    },
    {
     "name": "stdout",
     "output_type": "stream",
     "text": [
      "SELECT * FROM users WHERE id = 51\n",
      "SELECT id, title FROM application_types\n"
     ]
    },
    {
     "name": "stderr",
     "output_type": "stream",
     "text": [
      "127.0.0.1 - - [22/Jan/2023 17:40:21] \"GET /users/51/applications/1/create HTTP/1.1\" 200 -\n"
     ]
    },
    {
     "name": "stdout",
     "output_type": "stream",
     "text": [
      "SELECT * FROM users WHERE id = 51\n",
      "SELECT title, id, required FROM questions WHERE application_type_id = 1\n"
     ]
    },
    {
     "name": "stderr",
     "output_type": "stream",
     "text": [
      "127.0.0.1 - - [22/Jan/2023 17:40:21] \"GET /static/img3.jpg HTTP/1.1\" 200 -\n"
     ]
    },
    {
     "name": "stdout",
     "output_type": "stream",
     "text": [
      "SELECT * FROM users WHERE id = 51\n"
     ]
    },
    {
     "name": "stderr",
     "output_type": "stream",
     "text": [
      "127.0.0.1 - - [22/Jan/2023 17:43:27] \"POST /users/51/applications/1/submit HTTP/1.1\" 200 -\n"
     ]
    },
    {
     "name": "stdout",
     "output_type": "stream",
     "text": [
      "SELECT * FROM users WHERE id = 51\n",
      "inserted application with id: 53\n",
      "inserted application response with id: 457\n",
      "inserted application response with id: 458\n",
      "inserted application response with id: 459\n",
      "inserted application response with id: 460\n",
      "inserted application response with id: 461\n",
      "inserted application response with id: 462\n",
      "inserted application response with id: 463\n",
      "inserted application response with id: 464\n",
      "inserted application response with id: 465\n",
      "inserted application response with id: 466\n",
      "inserted application response with id: 467\n",
      "inserted application response with id: 468\n"
     ]
    },
    {
     "name": "stderr",
     "output_type": "stream",
     "text": [
      "127.0.0.1 - - [22/Jan/2023 17:43:27] \"GET /static/img4.jpg HTTP/1.1\" 200 -\n"
     ]
    },
    {
     "name": "stdout",
     "output_type": "stream",
     "text": [
      "SELECT * FROM users WHERE id = 51\n"
     ]
    },
    {
     "name": "stderr",
     "output_type": "stream",
     "text": [
      "127.0.0.1 - - [22/Jan/2023 17:44:33] \"GET /users/51/cases HTTP/1.1\" 200 -\n"
     ]
    },
    {
     "name": "stdout",
     "output_type": "stream",
     "text": [
      "SELECT * FROM users WHERE id = 51\n",
      "SELECT\n",
      "            t.title,\n",
      "            u.first_name as \"user_first_name\",\n",
      "            u.last_name as \"user_last_name\",\n",
      "            a.created_at,\n",
      "            a.updated_at,\n",
      "            c.first_name as \"consultant_first_name\",\n",
      "            c.last_name as \"consultant_last_name\",\n",
      "            c.company_name,\n",
      "            a.status \n",
      "        FROM applications AS a\n",
      "        LEFT JOIN application_types as t \n",
      "        ON a.application_type_id = t.id\n",
      "        LEFT JOIN users AS u\n",
      "        ON a.creator_id = u.id\n",
      "        LEFT JOIN consultants AS c\n",
      "        ON a.assigned_consultant_id = c.id\n",
      "        WHERE a.creator_id = 51\n"
     ]
    },
    {
     "name": "stderr",
     "output_type": "stream",
     "text": [
      "127.0.0.1 - - [22/Jan/2023 17:45:24] \"GET /logout HTTP/1.1\" 302 -\n"
     ]
    },
    {
     "name": "stdout",
     "output_type": "stream",
     "text": [
      "SELECT * FROM users WHERE id = 51\n"
     ]
    },
    {
     "name": "stderr",
     "output_type": "stream",
     "text": [
      "127.0.0.1 - - [22/Jan/2023 17:45:24] \"GET / HTTP/1.1\" 200 -\n",
      "127.0.0.1 - - [22/Jan/2023 17:45:30] \"POST /login HTTP/1.1\" 302 -\n"
     ]
    },
    {
     "name": "stdout",
     "output_type": "stream",
     "text": [
      "SELECT users.id, consultants.id as \"consultant_id\", users.email, users.pass_hash FROM users LEFT JOIN consultants ON consultants.user_id = users.id where users.email='tkachovapol@gmail.com' AND users.pass_hash='8d969eef6ecad3c29a3a629280e686cf0c3f5d5a86aff3ca12020c923adc6c92'\n"
     ]
    },
    {
     "name": "stderr",
     "output_type": "stream",
     "text": [
      "127.0.0.1 - - [22/Jan/2023 17:45:30] \"GET /consultants/1/cases HTTP/1.1\" 200 -\n"
     ]
    },
    {
     "name": "stdout",
     "output_type": "stream",
     "text": [
      "SELECT * FROM users WHERE id = 1\n",
      "SELECT\n",
      "         a.id, \n",
      "         t.title,\n",
      "         u.first_name AS \"user_first_name\",\n",
      "         u.last_name AS \"user_last_name\",\n",
      "         a.created_at,\n",
      "         a.updated_at, \n",
      "         c.first_name AS \"consultant_first_name\", \n",
      "         c.last_name AS \"consultant_last_name\",\n",
      "         c.company_name, \n",
      "         a.status\n",
      "    FROM applications as a\n",
      "    LEFT JOIN application_types as t\n",
      "    ON a.application_type_id = t.id\n",
      "    LEFT JOIN users as u\n",
      "    ON \ta.creator_id = u.id\n",
      "    LEFT JOIN consultants as c\n",
      "    ON \ta.assigned_consultant_id = c.id \n",
      "    WHERE a.assigned_consultant_id = 1\n"
     ]
    },
    {
     "name": "stderr",
     "output_type": "stream",
     "text": [
      "127.0.0.1 - - [22/Jan/2023 17:46:12] \"GET /consultants/1/cases/1 HTTP/1.1\" 200 -\n"
     ]
    },
    {
     "name": "stdout",
     "output_type": "stream",
     "text": [
      "SELECT * FROM users WHERE id = 1\n",
      "SELECT\n",
      "         a.id, \n",
      "         t.title,\n",
      "         u.first_name AS \"user_first_name\",\n",
      "         u.last_name AS \"user_last_name\",\n",
      "         a.created_at,\n",
      "         a.updated_at, \n",
      "         c.first_name AS \"consultant_first_name\", \n",
      "         c.last_name AS \"consultant_last_name\",\n",
      "         c.company_name, \n",
      "         a.status\n",
      "    FROM applications as a\n",
      "    LEFT JOIN application_types as t\n",
      "    ON a.application_type_id = t.id\n",
      "    LEFT JOIN users as u\n",
      "    ON \ta.creator_id = u.id\n",
      "    LEFT JOIN consultants as c\n",
      "    ON \ta.assigned_consultant_id = c.id \n",
      "    WHERE a.assigned_consultant_id = 1 AND a.id = '1' \n",
      "SELECT\n",
      "            ar.*,\n",
      "            q.title\n",
      "        FROM application_responses as ar\n",
      "        LEFT JOIN questions q ON q.id = ar.question_id\n",
      "        WHERE ar.application_id = '1' \n"
     ]
    },
    {
     "name": "stderr",
     "output_type": "stream",
     "text": [
      "127.0.0.1 - - [22/Jan/2023 17:46:13] \"GET /static/img6.jpg HTTP/1.1\" 200 -\n"
     ]
    },
    {
     "name": "stdout",
     "output_type": "stream",
     "text": [
      "SELECT * FROM users WHERE id = 1\n"
     ]
    },
    {
     "name": "stderr",
     "output_type": "stream",
     "text": [
      "127.0.0.1 - - [22/Jan/2023 17:46:17] \"GET /consultants/1/cases/2 HTTP/1.1\" 200 -\n"
     ]
    },
    {
     "name": "stdout",
     "output_type": "stream",
     "text": [
      "SELECT * FROM users WHERE id = 1\n",
      "SELECT\n",
      "         a.id, \n",
      "         t.title,\n",
      "         u.first_name AS \"user_first_name\",\n",
      "         u.last_name AS \"user_last_name\",\n",
      "         a.created_at,\n",
      "         a.updated_at, \n",
      "         c.first_name AS \"consultant_first_name\", \n",
      "         c.last_name AS \"consultant_last_name\",\n",
      "         c.company_name, \n",
      "         a.status\n",
      "    FROM applications as a\n",
      "    LEFT JOIN application_types as t\n",
      "    ON a.application_type_id = t.id\n",
      "    LEFT JOIN users as u\n",
      "    ON \ta.creator_id = u.id\n",
      "    LEFT JOIN consultants as c\n",
      "    ON \ta.assigned_consultant_id = c.id \n",
      "    WHERE a.assigned_consultant_id = 1 AND a.id = '2' \n",
      "SELECT\n",
      "            ar.*,\n",
      "            q.title\n",
      "        FROM application_responses as ar\n",
      "        LEFT JOIN questions q ON q.id = ar.question_id\n",
      "        WHERE ar.application_id = '2' \n"
     ]
    },
    {
     "name": "stderr",
     "output_type": "stream",
     "text": [
      "127.0.0.1 - - [22/Jan/2023 17:48:22] \"POST /consultants/1/cases/2 HTTP/1.1\" 200 -\n"
     ]
    },
    {
     "name": "stdout",
     "output_type": "stream",
     "text": [
      "SELECT * FROM users WHERE id = 1\n",
      "SELECT\n",
      "         a.id, \n",
      "         t.title,\n",
      "         u.first_name AS \"user_first_name\",\n",
      "         u.last_name AS \"user_last_name\",\n",
      "         a.created_at,\n",
      "         a.updated_at, \n",
      "         c.first_name AS \"consultant_first_name\", \n",
      "         c.last_name AS \"consultant_last_name\",\n",
      "         c.company_name, \n",
      "         a.status\n",
      "    FROM applications as a\n",
      "    LEFT JOIN application_types as t\n",
      "    ON a.application_type_id = t.id\n",
      "    LEFT JOIN users as u\n",
      "    ON \ta.creator_id = u.id\n",
      "    LEFT JOIN consultants as c\n",
      "    ON \ta.assigned_consultant_id = c.id \n",
      "    WHERE a.assigned_consultant_id = 1 AND a.id = '2' \n",
      "SELECT\n",
      "            ar.*,\n",
      "            q.title\n",
      "        FROM application_responses as ar\n",
      "        LEFT JOIN questions q ON q.id = ar.question_id\n",
      "        WHERE ar.application_id = '2' \n"
     ]
    },
    {
     "name": "stderr",
     "output_type": "stream",
     "text": [
      "127.0.0.1 - - [22/Jan/2023 17:48:24] \"POST /consultants/1/cases/2 HTTP/1.1\" 500 -\n"
     ]
    },
    {
     "name": "stdout",
     "output_type": "stream",
     "text": [
      "SELECT * FROM users WHERE id = 1\n"
     ]
    },
    {
     "name": "stderr",
     "output_type": "stream",
     "text": [
      "Traceback (most recent call last):\n",
      "  File \"<ipython-input-3-24701037ad28>\", line 247, in consultant_case\n",
      "    \n",
      "  File \"C:\\Users\\mraer\\anaconda3\\Lib\\site-packages\\werkzeug\\datastructures.py\", line 377, in __getitem__\n",
      "    raise exceptions.BadRequestKeyError(key)\n",
      "werkzeug.exceptions.BadRequestKeyError: 400 Bad Request: The browser (or proxy) sent a request that this server could not understand.\n",
      "\n",
      "During handling of the above exception, another exception occurred:\n",
      "\n",
      "Traceback (most recent call last):\n",
      "  File \"<ipython-input-3-24701037ad28>\", line 258, in consultant_case\n",
      "    \n",
      "UnboundLocalError: local variable 'con' referenced before assignment\n",
      "\n",
      "During handling of the above exception, another exception occurred:\n",
      "\n",
      "Traceback (most recent call last):\n",
      "  File \"C:\\Users\\mraer\\anaconda3\\Lib\\site-packages\\flask\\app.py\", line 2464, in __call__\n",
      "    return self.wsgi_app(environ, start_response)\n",
      "  File \"C:\\Users\\mraer\\anaconda3\\Lib\\site-packages\\flask\\app.py\", line 2450, in wsgi_app\n",
      "    response = self.handle_exception(e)\n",
      "  File \"C:\\Users\\mraer\\anaconda3\\Lib\\site-packages\\flask\\app.py\", line 1867, in handle_exception\n",
      "    reraise(exc_type, exc_value, tb)\n",
      "  File \"C:\\Users\\mraer\\anaconda3\\Lib\\site-packages\\flask\\_compat.py\", line 39, in reraise\n",
      "    raise value\n",
      "  File \"C:\\Users\\mraer\\anaconda3\\Lib\\site-packages\\flask\\app.py\", line 2447, in wsgi_app\n",
      "    response = self.full_dispatch_request()\n",
      "  File \"C:\\Users\\mraer\\anaconda3\\Lib\\site-packages\\flask\\app.py\", line 1952, in full_dispatch_request\n",
      "    rv = self.handle_user_exception(e)\n",
      "  File \"C:\\Users\\mraer\\anaconda3\\Lib\\site-packages\\flask\\app.py\", line 1821, in handle_user_exception\n",
      "    reraise(exc_type, exc_value, tb)\n",
      "  File \"C:\\Users\\mraer\\anaconda3\\Lib\\site-packages\\flask\\_compat.py\", line 39, in reraise\n",
      "    raise value\n",
      "  File \"C:\\Users\\mraer\\anaconda3\\Lib\\site-packages\\flask\\app.py\", line 1950, in full_dispatch_request\n",
      "    rv = self.dispatch_request()\n",
      "  File \"C:\\Users\\mraer\\anaconda3\\Lib\\site-packages\\flask\\app.py\", line 1936, in dispatch_request\n",
      "    return self.view_functions[rule.endpoint](**req.view_args)\n",
      "  File \"<ipython-input-3-24701037ad28>\", line 262, in consultant_case\n",
      "    \n",
      "UnboundLocalError: local variable 'con' referenced before assignment\n",
      "127.0.0.1 - - [22/Jan/2023 17:48:25] \"GET /consultants/1/cases/2?__debugger__=yes&cmd=resource&f=style.css HTTP/1.1\" 200 -\n",
      "127.0.0.1 - - [22/Jan/2023 17:48:25] \"GET /consultants/1/cases/2?__debugger__=yes&cmd=resource&f=debugger.js HTTP/1.1\" 200 -\n",
      "127.0.0.1 - - [22/Jan/2023 17:48:25] \"GET /consultants/1/cases/2?__debugger__=yes&cmd=resource&f=ubuntu.ttf HTTP/1.1\" 200 -\n",
      "127.0.0.1 - - [22/Jan/2023 17:48:25] \"GET /consultants/1/cases/2?__debugger__=yes&cmd=resource&f=console.png HTTP/1.1\" 200 -\n",
      "127.0.0.1 - - [22/Jan/2023 17:48:25] \"GET /consultants/1/cases/2?__debugger__=yes&cmd=resource&f=console.png HTTP/1.1\" 200 -\n",
      "127.0.0.1 - - [22/Jan/2023 17:48:34] \"GET /logout HTTP/1.1\" 302 -\n"
     ]
    },
    {
     "name": "stdout",
     "output_type": "stream",
     "text": [
      "SELECT * FROM users WHERE id = 1\n"
     ]
    },
    {
     "name": "stderr",
     "output_type": "stream",
     "text": [
      "127.0.0.1 - - [22/Jan/2023 17:48:34] \"GET / HTTP/1.1\" 200 -\n",
      "127.0.0.1 - - [22/Jan/2023 17:54:32] \"GET /About HTTP/1.1\" 200 -\n"
     ]
    }
   ],
   "source": [
    "#importing libraries\n",
    "import matplotlib.pyplot as plt\n",
    "import json\n",
    "from flask import Flask, render_template, redirect, url_for, request, session, g\n",
    "from flask_login import login_required, LoginManager, UserMixin, login_user, current_user\n",
    "from functools import wraps\n",
    "import hashlib\n",
    "import sqlite3\n",
    "import os\n",
    "\n",
    "\n",
    "app = Flask(__name__)\n",
    "app.secret_key = 'secret_key'\n",
    "\n",
    "def get_db_connection():\n",
    "    conn = sqlite3.connect('expat_project.db')\n",
    "    conn.row_factory = sqlite3.Row\n",
    "    conn.set_trace_callback(print)\n",
    "    return conn\n",
    "\n",
    "@app.before_request\n",
    "def before_request():\n",
    "    g.user = None\n",
    "    if 'user_id' in session:\n",
    "        conn = get_db_connection()\n",
    "        g.user = conn.execute(\"SELECT * FROM users WHERE id = ?\", (session['user_id'],)).fetchone()\n",
    "        conn.close()\n",
    "\n",
    "@app.route(\"/\")\n",
    "def Landing_Page():\n",
    "    try:\n",
    "        return render_template(\"home.html\")\n",
    "    except Exception as e:\n",
    "        return str(e)\n",
    "\n",
    "@app.route(\"/login\", methods=['POST','GET'])\n",
    "def login():\n",
    "    if request.method == 'POST':\n",
    "     \n",
    "        connection = get_db_connection()\n",
    "        cursor = connection.cursor()\n",
    "\n",
    "        email = request.form['email']\n",
    "        pass_hash = request.form['psw']\n",
    "        hashed_password = hashlib.sha256(pass_hash.encode()).hexdigest()\n",
    "        cursor.execute('SELECT users.id, consultants.id as \"consultant_id\", users.email, users.pass_hash FROM users LEFT JOIN consultants ON consultants.user_id = users.id where users.email=? AND users.pass_hash=?', (email, hashed_password))\n",
    "\n",
    "        results = cursor.fetchone()\n",
    "\n",
    "        if results:\n",
    "            session['user_id'] = results['id']\n",
    "            user = results\n",
    "            \n",
    "            if results[\"consultant_id\"] is not None:\n",
    "                return redirect(\"/consultants/\" + str(results['consultant_id']) + \"/cases\")\n",
    "            \n",
    "            else:\n",
    "                print(\"got back user with consulant: {}\".format(user.keys()))\n",
    "                print(\"got back consultant id: {}\".format(user['consultant_id']))\n",
    "                print(\"got back type of user: {}\".format(type(user)))\n",
    "                print(\"got back user: {}\".format(user))\n",
    "                return render_template(\"Logged.html\", user = user)\n",
    "            \n",
    "\n",
    "        else:\n",
    "            return render_template(\"LoginError.html\")\n",
    "\n",
    "\n",
    "\n",
    "        \n",
    "@app.route(\"/logout\")\n",
    "def logout():\n",
    "    if 'user_id' in session:\n",
    "        session.clear()\n",
    "        return redirect(\"/\")\n",
    "\n",
    "\n",
    "\n",
    "\n",
    "@app.route(\"/registered\", methods=['POST','GET'])\n",
    "def registered():\n",
    "    if request.method == 'POST':\n",
    "        try:\n",
    "            first_name = request.form['name']\n",
    "            last_name = request.form['surname']\n",
    "            email = request.form['email']\n",
    "            pass_hash = request.form['psw']\n",
    "            \n",
    "            with sqlite3.connect('expat_project.db') as con:\n",
    "                c = con.cursor()\n",
    "                c.execute(\"SELECT * FROM users WHERE email =?\",(email,))\n",
    "                existing_user = c.fetchone()\n",
    "                if existing_user:\n",
    "                    msg = \"Email already exists, please use another email\"\n",
    "                    return render_template(\"Registered.html\", msg=msg)\n",
    "                else:\n",
    "                    hashed_password = hashlib.sha256(pass_hash.encode()).hexdigest()\n",
    "                    c.execute(\"INSERT INTO users (first_name,last_name,email,pass_hash) VALUES (?,?,?,?)\",(first_name,last_name,email,hashed_password))\n",
    "                    c.execute(\"SELECT id FROM users WHERE email=?\",(email,))\n",
    "                    user_id = c.fetchone()[0]\n",
    "                    con.commit()\n",
    "                    session['user_id'] = user_id\n",
    "                    msg = \"Welcome to Expat Assistance \"+first_name\n",
    "                    return redirect(\"/users/{}/select_application\".format(user_id))\n",
    "        except Exception as e:\n",
    "            con.rollback()\n",
    "            msg = \"Got back error to register \" + str(e)\n",
    "        finally:\n",
    "            con.close()\n",
    "          \n",
    "            \n",
    "              \n",
    "########################################################################################\n",
    "\n",
    "\n",
    "#page to select application type\n",
    "\n",
    "\n",
    "@app.route(\"/users/<int:user_id>/select_application\")\n",
    "def select_application(user_id):\n",
    "    if g.user and g.user['id'] == user_id:\n",
    "        conn = get_db_connection()\n",
    "        rows = conn.execute(\"SELECT id, title FROM application_types\").fetchall()\n",
    "        conn.close()\n",
    "        return render_template('select_application_type.html', rows = rows, user_id = user_id) \n",
    "    \n",
    "    else:\n",
    "        return redirect('/')\n",
    "\n",
    "#page and query to get existing cases for a user \n",
    "\n",
    "@app.route(\"/users/<int:user_id>/cases\")\n",
    "def user_cases(user_id):\n",
    "    if g.user and g.user['id'] == session['user_id'] and g.user['id'] == user_id:\n",
    "        conn = get_db_connection()\n",
    "        rows = conn.execute(\"\"\"SELECT\n",
    "            t.title,\n",
    "            u.first_name as \"user_first_name\",\n",
    "            u.last_name as \"user_last_name\",\n",
    "            a.created_at,\n",
    "            a.updated_at,\n",
    "            c.first_name as \"consultant_first_name\",\n",
    "            c.last_name as \"consultant_last_name\",\n",
    "            c.company_name,\n",
    "            a.status \n",
    "        FROM applications AS a\n",
    "        LEFT JOIN application_types as t \n",
    "        ON a.application_type_id = t.id\n",
    "        LEFT JOIN users AS u\n",
    "        ON a.creator_id = u.id\n",
    "        LEFT JOIN consultants AS c\n",
    "        ON a.assigned_consultant_id = c.id\n",
    "        WHERE a.creator_id = ?\"\"\",(user_id,)).fetchall()\n",
    "        conn.close()\n",
    "        return render_template('user_cases.html', rows = rows)\n",
    "    \n",
    "    else:\n",
    "        return redirect('/')\n",
    "\n",
    "\n",
    "\n",
    "\n",
    "#page to start a new application\n",
    "\n",
    "@app.route(\"/users/<int:user_id>/applications/<application_type_id>/create\")\n",
    "def start_application(user_id, application_type_id):\n",
    "    if g.user and g.user['id'] == session['user_id'] and g.user['id'] == user_id:\n",
    "        conn = get_db_connection()\n",
    "        rows = conn.execute('SELECT title, id, required FROM questions WHERE application_type_id = ' + application_type_id ).fetchall()\n",
    "        conn.close()\n",
    "        return render_template('start_application.html', questions = rows, user_id = user_id, application_type_id = application_type_id)  \n",
    "    \n",
    "    else:\n",
    "        return redirect('/')\n",
    "\n",
    "\n",
    "\n",
    "@app.route(\"/users/<int:user_id>/applications/<application_type_id>/submit\",  methods=['POST'])\n",
    "def submit_application(user_id, application_type_id):\n",
    "    if g.user and g.user['id'] == user_id:\n",
    "        response = request.form\n",
    "        application_id = None\n",
    "        msg = ''\n",
    "        try:\n",
    "            con = sqlite3.connect('expat_project.db')\n",
    "            c = con.cursor()\n",
    "            application_id = c.execute(\"INSERT INTO applications (application_type_id, creator_id) VALUES (?,?)\",(application_type_id,user_id)).lastrowid\n",
    "            print(\"inserted application with id: {}\".format(application_id))\n",
    "            for question_id in response:\n",
    "                application_response_id = c.execute(\"INSERT INTO application_responses  (question_id, application_id, response) VALUES (?, ?, ?)\", (question_id, application_id, response[question_id])).lastrowid\n",
    "                print(\"inserted application response with id: {}\".format(application_response_id))\n",
    "            con.commit()\n",
    "            msg = \"Successfully submitted application with responses\"\n",
    "\n",
    "        except Exception as e:\n",
    "            print(\"rollbacking the transaction {}!!\".format(e))\n",
    "            msg = \"Incorrect submission. {}\".format(e)\n",
    "            con.rollback()\n",
    "\n",
    "        finally:\n",
    "            con.close()\n",
    "            return render_template('submit_application.html', response = response, application_id = application_id, msg = msg, user_id = user_id)\n",
    "    else:\n",
    "        return redirect('/')\n",
    "        \n",
    "\n",
    "#page for consulatnts to \n",
    "\n",
    "@app.route(\"/consultants/<int:consultant_id>/cases\")\n",
    "def consultant_cases(consultant_id):\n",
    "    if 'user_id' in session and session['user_id'] == consultant_id:\n",
    "        conn = get_db_connection()\n",
    "        rows = conn.execute(\"\"\"SELECT\n",
    "         a.id, \n",
    "         t.title,\n",
    "         u.first_name AS \"user_first_name\",\n",
    "         u.last_name AS \"user_last_name\",\n",
    "         a.created_at,\n",
    "         a.updated_at, \n",
    "         c.first_name AS \"consultant_first_name\", \n",
    "         c.last_name AS \"consultant_last_name\",\n",
    "         c.company_name, \n",
    "         a.status\n",
    "    FROM applications as a\n",
    "    LEFT JOIN application_types as t\n",
    "    ON a.application_type_id = t.id\n",
    "    LEFT JOIN users as u\n",
    "    ON \ta.creator_id = u.id\n",
    "    LEFT JOIN consultants as c\n",
    "    ON \ta.assigned_consultant_id = c.id \n",
    "    WHERE a.assigned_consultant_id = ?\"\"\", (consultant_id,)).fetchall()\n",
    "        conn.close()\n",
    "\n",
    "        return render_template('consultant_cases.html', rows = rows, consultant_id = consultant_id) \n",
    "    \n",
    "    else:\n",
    "        return redirect('/')\n",
    "\n",
    "\n",
    "\n",
    "@app.route(\"/consultants/<int:consultant_id>/cases/<application_id>\", methods=[\"GET\", \"POST\"])\n",
    "def consultant_case(consultant_id, application_id):\n",
    "    if g.user and g.user['id'] == consultant_id:\n",
    "        msg = ''\n",
    "        if request.method == 'POST':\n",
    "            try:\n",
    "                application_status = request.form['application_status']\n",
    "\n",
    "                with sqlite3.connect('expat_project.db') as con:\n",
    "                    c=con.cursor()\n",
    "                    c.execute(\"UPDATE applications SET status = ? WHERE id = ?\",(application_status,application_id))\n",
    "\n",
    "                    con.commit()\n",
    "                    msg = \"Updated application status! \"\n",
    "\n",
    "    #When the page is refreshed, submit button does not work\n",
    "            except Exception as e:\n",
    "                con.rollback()\n",
    "                msg = \"Got back error updating status: \" + str(e)\n",
    "\n",
    "            finally:\n",
    "                con.close()\n",
    "\n",
    "\n",
    "        conn = get_db_connection()\n",
    "        ## Adding consultant_id as WHERE clause to make sure we only get application if consultant is associated with it\n",
    "        rows = conn.execute(\"\"\"SELECT\n",
    "         a.id, \n",
    "         t.title,\n",
    "         u.first_name AS \"user_first_name\",\n",
    "         u.last_name AS \"user_last_name\",\n",
    "         a.created_at,\n",
    "         a.updated_at, \n",
    "         c.first_name AS \"consultant_first_name\", \n",
    "         c.last_name AS \"consultant_last_name\",\n",
    "         c.company_name, \n",
    "         a.status\n",
    "    FROM applications as a\n",
    "    LEFT JOIN application_types as t\n",
    "    ON a.application_type_id = t.id\n",
    "    LEFT JOIN users as u\n",
    "    ON \ta.creator_id = u.id\n",
    "    LEFT JOIN consultants as c\n",
    "    ON \ta.assigned_consultant_id = c.id \n",
    "    WHERE a.assigned_consultant_id = ? AND a.id = ? \"\"\",(consultant_id, application_id)).fetchall()\n",
    "\n",
    "        responses = conn.execute(\"\"\"SELECT\n",
    "            ar.*,\n",
    "            q.title\n",
    "        FROM application_responses as ar\n",
    "        LEFT JOIN questions q ON q.id = ar.question_id\n",
    "        WHERE ar.application_id = ? \"\"\", (application_id)).fetchall()\n",
    "        conn.close()\n",
    "        return render_template('consultant_case.html', application = rows[0], msg = msg, responses = responses, consultant_id = consultant_id) \n",
    "    \n",
    "    else:\n",
    "        return redirect('/')\n",
    "\n",
    "@app.route(\"/About\")\n",
    "def index():\n",
    "    connection = sqlite3.connect('expat_project.db')\n",
    "    cursor = connection.cursor()\n",
    "    cursor.execute(\"SELECT status, COUNT(*) FROM applications GROUP BY status\")\n",
    "    result = cursor.fetchall()\n",
    "    connection.close()\n",
    "    labels = []\n",
    "    values = []\n",
    "    for item in result:\n",
    "        labels.append(item[0])\n",
    "        values.append(item[1])\n",
    "    total_count = sum(values)\n",
    "    plt.bar(labels, values)\n",
    "    plt.xlabel('Status')\n",
    "    plt.ylabel('Count')\n",
    "    plt.title('Finished, Submitted, In Progress')\n",
    "    plt.savefig('static/status_graph.png')\n",
    "    plt.close()\n",
    "    return render_template('About.html')\n",
    "\n",
    "\n",
    "\n",
    "app.run(host='localhost', port=8081, debug=True, use_reloader=False) #running app which is Flask at localhost at port 8081\n",
    "\n",
    "\n",
    "\n"
   ]
  },
  {
   "cell_type": "code",
   "execution_count": null,
   "id": "15b20df8",
   "metadata": {},
   "outputs": [],
   "source": []
  }
 ],
 "metadata": {
  "kernelspec": {
   "display_name": "Python 3",
   "language": "python",
   "name": "python3"
  },
  "language_info": {
   "codemirror_mode": {
    "name": "ipython",
    "version": 3
   },
   "file_extension": ".py",
   "mimetype": "text/x-python",
   "name": "python",
   "nbconvert_exporter": "python",
   "pygments_lexer": "ipython3",
   "version": "3.8.8"
  }
 },
 "nbformat": 4,
 "nbformat_minor": 5
}
