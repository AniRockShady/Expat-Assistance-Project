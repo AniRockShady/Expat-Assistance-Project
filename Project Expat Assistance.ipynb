{
 "cells": [
  {
   "cell_type": "markdown",
   "id": "c8b9d002",
   "metadata": {},
   "source": [
    "## Project Expat Assistance\n",
    "\n",
    "Starting with the Web Framework with Flask"
   ]
  },
  {
   "cell_type": "code",
   "execution_count": null,
   "id": "517f8429",
   "metadata": {
    "scrolled": false
   },
   "outputs": [],
   "source": [
    "#installing the flask\n",
    "\n",
    "#remove in case flask is not installed\n",
    "#pip uninstall flask \n",
    "\n",
    "#in case upgrade needed\n",
    "#!pip install --upgrade flask\n",
    "\n",
    "#flask --version\n",
    "\n",
    "\n",
    "###############IMPORTANT##########\n",
    "#Need to add functionality to check if users cannot login with urls"
   ]
  },
  {
   "cell_type": "markdown",
   "id": "e9b28628",
   "metadata": {},
   "source": [
    "## Running Example code with Flask"
   ]
  },
  {
   "cell_type": "code",
   "execution_count": null,
   "id": "54b77a1b",
   "metadata": {
    "scrolled": false
   },
   "outputs": [
    {
     "name": "stdout",
     "output_type": "stream",
     "text": [
      " * Serving Flask app \"__main__\" (lazy loading)\n",
      " * Environment: production\n",
      "\u001b[31m   WARNING: This is a development server. Do not use it in a production deployment.\u001b[0m\n",
      "\u001b[2m   Use a production WSGI server instead.\u001b[0m\n",
      " * Debug mode: on\n"
     ]
    },
    {
     "name": "stderr",
     "output_type": "stream",
     "text": [
      " * Running on http://localhost:8081/ (Press CTRL+C to quit)\n",
      "127.0.0.1 - - [14/Jan/2023 16:56:34] \"GET / HTTP/1.1\" 200 -\n",
      "127.0.0.1 - - [14/Jan/2023 16:56:49] \"POST /login HTTP/1.1\" 200 -\n"
     ]
    },
    {
     "name": "stdout",
     "output_type": "stream",
     "text": [
      "got back user: <sqlite3.Row object at 0x7fcdaa113a90>\n"
     ]
    },
    {
     "name": "stderr",
     "output_type": "stream",
     "text": [
      "127.0.0.1 - - [14/Jan/2023 16:57:22] \"GET /users/%3Cuser_id%3E/select_application HTTP/1.1\" 200 -\n",
      "127.0.0.1 - - [14/Jan/2023 16:57:24] \"GET /users/%3Cuser_id%3E/applications/1/create HTTP/1.1\" 200 -\n",
      "127.0.0.1 - - [14/Jan/2023 16:57:28] \"GET /users/%3Cuser_id%3E/applications/2/create HTTP/1.1\" 200 -\n",
      "127.0.0.1 - - [14/Jan/2023 16:57:30] \"GET /users/%3Cuser_id%3E/applications/3/create HTTP/1.1\" 200 -\n",
      "127.0.0.1 - - [14/Jan/2023 16:57:34] \"GET /users/%3Cuser_id%3E/applications/2/create HTTP/1.1\" 200 -\n",
      "127.0.0.1 - - [14/Jan/2023 16:57:36] \"GET /users/%3Cuser_id%3E/applications/1/create HTTP/1.1\" 200 -\n",
      "127.0.0.1 - - [14/Jan/2023 16:58:00] \"GET /users/1/select_application HTTP/1.1\" 200 -\n",
      "127.0.0.1 - - [14/Jan/2023 16:58:03] \"GET /users/1/applications/2/create HTTP/1.1\" 200 -\n",
      "127.0.0.1 - - [14/Jan/2023 16:58:09] \"GET /users/1/applications/1/create HTTP/1.1\" 200 -\n",
      "127.0.0.1 - - [14/Jan/2023 17:16:03] \"POST /login HTTP/1.1\" 200 -\n"
     ]
    },
    {
     "name": "stdout",
     "output_type": "stream",
     "text": [
      "got back user: <sqlite3.Row object at 0x7fcdaa113d30>\n"
     ]
    },
    {
     "name": "stderr",
     "output_type": "stream",
     "text": [
      "127.0.0.1 - - [14/Jan/2023 17:17:07] \"GET /users/%3Cuser_id%3E/select_application HTTP/1.1\" 200 -\n",
      "127.0.0.1 - - [14/Jan/2023 17:17:10] \"POST /login HTTP/1.1\" 200 -\n"
     ]
    },
    {
     "name": "stdout",
     "output_type": "stream",
     "text": [
      "got back user: <sqlite3.Row object at 0x7fcdaa113fd0>\n"
     ]
    },
    {
     "name": "stderr",
     "output_type": "stream",
     "text": [
      "127.0.0.1 - - [14/Jan/2023 17:17:12] \"GET /users/1/select_application HTTP/1.1\" 200 -\n",
      "127.0.0.1 - - [14/Jan/2023 17:17:14] \"GET /users/1/applications/1/create HTTP/1.1\" 200 -\n",
      "127.0.0.1 - - [14/Jan/2023 17:17:16] \"POST /users/1/applications/1/submit HTTP/1.1\" 200 -\n"
     ]
    },
    {
     "name": "stdout",
     "output_type": "stream",
     "text": [
      "inserted application with id: 19\n",
      "inserted application response with id: 61\n",
      "inserted application response with id: 62\n",
      "inserted application response with id: 63\n",
      "inserted application response with id: 64\n",
      "inserted application response with id: 65\n",
      "inserted application response with id: 66\n",
      "inserted application response with id: 67\n",
      "inserted application response with id: 68\n",
      "inserted application response with id: 69\n",
      "inserted application response with id: 70\n",
      "inserted application response with id: 71\n",
      "inserted application response with id: 72\n"
     ]
    },
    {
     "name": "stderr",
     "output_type": "stream",
     "text": [
      "127.0.0.1 - - [14/Jan/2023 17:17:19] \"GET /users/1/cases HTTP/1.1\" 200 -\n"
     ]
    }
   ],
   "source": [
    "from flask import Flask, render_template, redirect, url_for, request  #importing libraries\n",
    "import sqlite3\n",
    "import os\n",
    "\n",
    "\n",
    "app = Flask(__name__)    #__name__ is communicating with Flask function for user's\n",
    "                         #current directory specification\n",
    "\n",
    "\n",
    "#routing in FLask\n",
    "@app.route(\"/\")          #Calling flask to route to the end of a website eg\"xcvb.com/\" to execute a code\n",
    "def Landing_Page():         #function Landing Page at/\n",
    "    try:\n",
    "        return render_template(\"home.html\")\n",
    "    except Exception as e:\n",
    "        return str(e)            #Just showing the error if any\n",
    "\n",
    "\n",
    "def get_db_connection():\n",
    "    conn = sqlite3.connect('expat_project.db')\n",
    "    conn.row_factory = sqlite3.Row\n",
    "    return conn\n",
    "\n",
    "@app.route(\"/login\", methods=['POST','GET'])\n",
    "def login():\n",
    "    if request.method == 'POST':\n",
    "        \n",
    "        connection = get_db_connection()\n",
    "        cursor = connection.cursor()\n",
    "        \n",
    "        email = request.form['email']\n",
    "        password = request.form['psw']\n",
    "        \n",
    "        cursor.execute('SELECT id, email, pass_hash FROM users where email=? AND pass_hash=?', (email, password))\n",
    "        \n",
    "        results = cursor.fetchall()\n",
    "        \n",
    "        if len(results) == 0:\n",
    "            return render_template(\"LoginError.html\")\n",
    "            \n",
    "        else:\n",
    "            user = results[0]\n",
    "            print(\"got back user: {}\".format(user))\n",
    "            return render_template(\"Logged.html\", user = user)\n",
    "    \n",
    "    \n",
    "\n",
    "\n",
    "@app.route(\"/registered\", methods=['POST','GET'])\n",
    "def registered():\n",
    "#    con=sqlite3.connect('expat_project.db')\n",
    "    if request.method == 'POST':\n",
    "        try:\n",
    "            first_name = request.form['name']\n",
    "            last_name = request.form['surname']\n",
    "            email = request.form['email']\n",
    "            pass_hash = request.form['psw']\n",
    "            \n",
    "            with sqlite3.connect('expat_project.db') as con:\n",
    "                c=con.cursor()\n",
    "                c.execute(\"SELECT * FROM users WHERE email =?\",(email,))\n",
    "\n",
    "                check = c.fetchone()\n",
    "                \n",
    "                c.execute(\"INSERT INTO users (first_name,last_name,email,pass_hash) VALUES (?,?,?,?)\",(first_name,last_name,email,pass_hash))\n",
    "                    \n",
    "                con.commit()\n",
    "                msg = \"Welcome to Expat Assistance \"+first_name\n",
    "                redirect(\"/registered\")\n",
    "\n",
    "#When the page is refreshed, submit button does not work\n",
    "        except Exception as e:\n",
    "            con.rollback()\n",
    "            msg = \"Got back error to register \" + str(e)\n",
    "            \n",
    "        finally:\n",
    "            con.close()\n",
    "            return render_template(\"Registered.html\", msg=msg)\n",
    "            \n",
    "            \n",
    "            \n",
    "\n",
    "            \n",
    "########################################################################################\n",
    "\n",
    "    \n",
    "#page to select a new application or see existing, need to add buttons here to see existing apps or start a new one \n",
    "@app.route(\"/welcome\")\n",
    "def welcome():\n",
    "    return render_template('welcome.html')\n",
    "\n",
    "\n",
    "#page to select application type\n",
    "\n",
    "\n",
    "@app.route(\"/users/<user_id>/select_application\")\n",
    "def select_application(user_id):\n",
    "    conn = get_db_connection()\n",
    "    rows = conn.execute(\"SELECT id, title FROM application_types\").fetchall()\n",
    "    conn.close()\n",
    "    return render_template('select_application_type.html', rows = rows, user_id = user_id) \n",
    "\n",
    "#page and query to get existing cases for a user \n",
    "\n",
    "@app.route(\"/users/<user_id>/cases\")\n",
    "def user_cases(user_id):\n",
    "    conn = get_db_connection()\n",
    "    rows = conn.execute(\"\"\"SELECT\n",
    "        t.title,\n",
    "        u.first_name as \"user_first_name\",\n",
    "        u.last_name as \"user_last_name\",\n",
    "        a.created_at,\n",
    "        a.updated_at,\n",
    "        c.first_name as \"consultant_first_name\",\n",
    "        c.last_name as \"consultant_last_name\",\n",
    "        c.company_name,\n",
    "        a.status \n",
    "    FROM applications AS a\n",
    "    LEFT JOIN application_types as t \n",
    "    ON a.application_type_id = t.id\n",
    "    LEFT JOIN users AS u\n",
    "    ON a.creator_id = u.id\n",
    "    LEFT JOIN consultants AS c\n",
    "    ON a.assigned_consultant_id = c.id\n",
    "    WHERE a.creator_id = \"\"\" + user_id).fetchall()\n",
    "    conn.close()\n",
    "    return render_template('user_cases.html', rows = rows) \n",
    "\n",
    "#page to start a new application\n",
    "\n",
    "@app.route(\"/users/<user_id>/applications/<application_type_id>/create\")\n",
    "def start_application(user_id, application_type_id):\n",
    "    conn = get_db_connection()\n",
    "    rows = conn.execute('SELECT title, id, required FROM questions WHERE application_type_id = ' + application_type_id ).fetchall()\n",
    "    conn.close()\n",
    "    return render_template('start_application.html', questions = rows, user_id = user_id, application_type_id = application_type_id)  \n",
    "\n",
    "\n",
    "\n",
    "@app.route(\"/users/<user_id>/applications/<application_type_id>/submit\",  methods=['POST'])\n",
    "def submit_application(user_id, application_type_id):\n",
    "    response = request.form\n",
    "    application_id = None\n",
    "    msg = ''\n",
    "    try:\n",
    "        con = sqlite3.connect('expat_project.db')\n",
    "        c = con.cursor()\n",
    "        application_id = c.execute(\"INSERT INTO applications (application_type_id, creator_id) VALUES (?,?)\",(application_type_id,user_id)).lastrowid\n",
    "        print(\"inserted application with id: {}\".format(application_id))\n",
    "        for question_id in response:\n",
    "            application_response_id = c.execute(\"INSERT INTO application_responses  (question_id, application_id, response) VALUES (?, ?, ?)\", (question_id, application_id, response[question_id])).lastrowid\n",
    "            print(\"inserted application response with id: {}\".format(application_response_id))\n",
    "        con.commit()\n",
    "        msg = \"Successfully submitted application with responses\"\n",
    "        \n",
    "    except Exception as e:\n",
    "        print(\"rollbacking the transaction {}!!\".format(e))\n",
    "        msg = \"Incorrect submission. {}\".format(e)\n",
    "        con.rollback()\n",
    "        \n",
    "    finally:\n",
    "        con.close()\n",
    "        return render_template('submit_application.html', response = response, application_id = application_id, msg = msg, user_id = user_id)  \n",
    "#page for consulatnts to \n",
    "\n",
    "@app.route(\"/consultants/<consultant_id>/cases\")\n",
    "def consultant_cases(consultant_id):\n",
    "    conn = get_db_connection()\n",
    "    rows = conn.execute(\"\"\"SELECT\n",
    "     a.id, \n",
    "     t.title,\n",
    "     u.first_name AS \"user_first_name\",\n",
    "     u.last_name AS \"user_last_name\",\n",
    "     a.created_at,\n",
    "     a.updated_at, \n",
    "     c.first_name AS \"consultant_first_name\", \n",
    "     c.last_name AS \"consultant_last_name\",\n",
    "     c.company_name, \n",
    "     a.status\n",
    "FROM applications as a\n",
    "LEFT JOIN application_types as t\n",
    "ON a.application_type_id = t.id\n",
    "LEFT JOIN users as u\n",
    "ON \ta.creator_id = u.id\n",
    "LEFT JOIN consultants as c\n",
    "ON \ta.assigned_consultant_id = c.id \n",
    "WHERE a.assigned_consultant_id =  \"\"\" + consultant_id ).fetchall()\n",
    "    conn.close()\n",
    "    return render_template('consultant_cases.html', rows = rows) \n",
    "\n",
    "\n",
    "\n",
    "app.run(host='localhost', port=8081, debug=True, use_reloader=False) #running app which is Flask at localhost at port 8081\n",
    "\n",
    "\n",
    "\n"
   ]
  },
  {
   "cell_type": "code",
   "execution_count": null,
   "id": "ae8fdebc",
   "metadata": {},
   "outputs": [],
   "source": [
    "\n"
   ]
  },
  {
   "cell_type": "code",
   "execution_count": null,
   "id": "64d5ecb3",
   "metadata": {},
   "outputs": [],
   "source": []
  },
  {
   "cell_type": "code",
   "execution_count": null,
   "id": "bf99db2d",
   "metadata": {},
   "outputs": [],
   "source": []
  }
 ],
 "metadata": {
  "kernelspec": {
   "display_name": "Python 3 (ipykernel)",
   "language": "python",
   "name": "python3"
  },
  "language_info": {
   "codemirror_mode": {
    "name": "ipython",
    "version": 3
   },
   "file_extension": ".py",
   "mimetype": "text/x-python",
   "name": "python",
   "nbconvert_exporter": "python",
   "pygments_lexer": "ipython3",
   "version": "3.9.13"
  },
  "vscode": {
   "interpreter": {
    "hash": "8a5edab282632443219e051e4ade2d1d5bbc671c781051bf1437897cbdfea0f1"
   }
  }
 },
 "nbformat": 4,
 "nbformat_minor": 5
}
