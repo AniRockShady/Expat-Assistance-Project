{
 "cells": [
  {
   "cell_type": "markdown",
   "id": "c8b9d002",
   "metadata": {},
   "source": [
    "## Project Expat Assistance\n",
    "\n",
    "Starting with the Web Framework with Flask"
   ]
  },
  {
   "cell_type": "code",
   "execution_count": null,
   "id": "517f8429",
   "metadata": {
    "scrolled": false
   },
   "outputs": [],
   "source": [
    "#installing the flask\n",
    "\n",
    "#remove in case flask is not installed\n",
    "#pip uninstall flask \n",
    "\n",
    "#in case upgrade needed\n",
    "#!pip install --upgrade flask\n",
    "\n",
    "#flask --version"
   ]
  },
  {
   "cell_type": "code",
   "execution_count": 1,
   "id": "2b43ce2e",
   "metadata": {},
   "outputs": [],
   "source": [
    "import sqlite3"
   ]
  },
  {
   "cell_type": "markdown",
   "id": "e9b28628",
   "metadata": {},
   "source": [
    "## Running Example code with Flask"
   ]
  },
  {
   "cell_type": "code",
   "execution_count": null,
   "id": "54b77a1b",
   "metadata": {
    "scrolled": false
   },
   "outputs": [
    {
     "name": "stdout",
     "output_type": "stream",
     "text": [
      " * Serving Flask app \"__main__\" (lazy loading)\n",
      " * Environment: production\n",
      "\u001b[31m   WARNING: This is a development server. Do not use it in a production deployment.\u001b[0m\n",
      "\u001b[2m   Use a production WSGI server instead.\u001b[0m\n",
      " * Debug mode: on\n"
     ]
    },
    {
     "name": "stderr",
     "output_type": "stream",
     "text": [
      " * Running on http://localhost:8081/ (Press CTRL+C to quit)\n",
      "127.0.0.1 - - [08/Jan/2023 20:22:58] \"GET /consultants/2/cases HTTP/1.1\" 200 -\n"
     ]
    }
   ],
   "source": [
    "from flask import Flask, render_template, redirect, url_for  #importing libraries\n",
    "#from jinja2 import pass_context\n",
    "\n",
    "\n",
    "app = Flask(__name__)    #__name__ is communicating with Flask function for user's\n",
    "                         #current directory specification\n",
    "\n",
    "#routing in FLask\n",
    "@app.route(\"/\")          #Calling flask to route to the end of a website eg\"xcvb.com/\" to execute a code\n",
    "def Landing_Page():         #function Landing Page at/\n",
    "    try:\n",
    "        return render_template(\"home.html\")\n",
    "    except Exception as e:\n",
    "        return str(e)            #Just showing the error if any\n",
    "\n",
    "@app.route(\"/login\")\n",
    "def login():\n",
    "     try:\n",
    "        return render_template(\"login.html\")   \n",
    "     except Exception as e:\n",
    "        return str(e)\n",
    "\n",
    "@app.route(\"/home\")\n",
    "def Home_Page():\n",
    "     return \"Help us to Help You!\"\n",
    "\n",
    "@app.route(\"/home/apply\")\n",
    "def Application_Page():\n",
    "     return \"Choose your way\"\n",
    "\n",
    "@app.route(\"/home/apply/trc\")\n",
    "def Apply_TRC():\n",
    "     return \"Submit your response here\"    \n",
    "    \n",
    "def get_db_connection():\n",
    "    conn = sqlite3.connect('expat_project.db')\n",
    "    conn.row_factory = sqlite3.Row\n",
    "    return conn\n",
    "    \n",
    "#page to select a new application or see existing, need to add buttons here to see existing apps or start a new one \n",
    "@app.route(\"/welcome\")\n",
    "def welcome():\n",
    "    return render_template('welcome.html')\n",
    "\n",
    "#page and query to get existing cases for a user \n",
    "\n",
    "@app.route(\"/users/<user_id>/cases\")\n",
    "def user_cases(user_id):\n",
    "    conn = get_db_connection()\n",
    "    rows = conn.execute(\"\"\"SELECT\n",
    "        t.title,\n",
    "        u.first_name as \"user_first_name\",\n",
    "        u.last_name as \"user_last_name\",\n",
    "        a.created_at,\n",
    "        a.updated_at,\n",
    "        c.first_name as \"consultant_first_name\",\n",
    "        c.last_name as \"consultant_last_name\",\n",
    "        c.company_name,\n",
    "        a.status \n",
    "    FROM applications AS a\n",
    "    LEFT JOIN application_types as t \n",
    "    ON a.application_type_id = t.id\n",
    "    LEFT JOIN users AS u\n",
    "    ON a.creator_id = u.id\n",
    "    LEFT JOIN consultants AS c\n",
    "    ON a.assigned_consultant_id = c.id\n",
    "    WHERE a.creator_id = \"\"\" + user_id).fetchall()\n",
    "    conn.close()\n",
    "    return render_template('user_cases.html', rows = rows) \n",
    "\n",
    "#page to start a new application\n",
    "\n",
    "@app.route(\"/users/<user_id>/applications/<application_type_id>/create\")\n",
    "def start_application(user_id, application_type_id):\n",
    "    conn = get_db_connection()\n",
    "    rows = conn.execute('SELECT title FROM questions WHERE application_type_id = ' + application_type_id ).fetchall()\n",
    "    conn.close()\n",
    "    return render_template('start_application.html', rows = rows)  \n",
    "\n",
    "#page for consulatnts to \n",
    "\n",
    "@app.route(\"/consultants/<consultant_id>/cases\")\n",
    "def consultant_cases(consultant_id):\n",
    "    conn = get_db_connection()\n",
    "    rows = conn.execute(\"\"\"SELECT\n",
    "     a.id, \n",
    "     t.title,\n",
    "     u.first_name AS \"user_first_name\",\n",
    "     u.last_name AS \"user_last_name\",\n",
    "     a.created_at,\n",
    "     a.updated_at, \n",
    "     c.first_name AS \"consultant_first_name\", \n",
    "     c.last_name AS \"consultant_last_name\",\n",
    "     c.company_name, \n",
    "     a.status\n",
    "FROM applications as a\n",
    "LEFT JOIN application_types as t\n",
    "ON a.application_type_id = t.id\n",
    "LEFT JOIN users as u\n",
    "ON \ta.creator_id = u.id\n",
    "LEFT JOIN consultants as c\n",
    "ON \ta.assigned_consultant_id = c.id \n",
    "WHERE a.assigned_consultant_id =  \"\"\" + consultant_id ).fetchall()\n",
    "    conn.close()\n",
    "    return render_template('consultant_cases.html', rows = rows) \n",
    "\n",
    "\n",
    "\n",
    "app.run(host='localhost', port=8081, debug=True, use_reloader=False) #running app which is Flask at localhost at port 8080\n",
    "\n"
   ]
  },
  {
   "cell_type": "code",
   "execution_count": null,
   "id": "ae8fdebc",
   "metadata": {},
   "outputs": [],
   "source": [
    "\n"
   ]
  },
  {
   "cell_type": "code",
   "execution_count": null,
   "id": "64d5ecb3",
   "metadata": {},
   "outputs": [],
   "source": []
  },
  {
   "cell_type": "code",
   "execution_count": null,
   "id": "bf99db2d",
   "metadata": {},
   "outputs": [],
   "source": []
  }
 ],
 "metadata": {
  "kernelspec": {
   "display_name": "Python 3 (ipykernel)",
   "language": "python",
   "name": "python3"
  },
  "language_info": {
   "codemirror_mode": {
    "name": "ipython",
    "version": 3
   },
   "file_extension": ".py",
   "mimetype": "text/x-python",
   "name": "python",
   "nbconvert_exporter": "python",
   "pygments_lexer": "ipython3",
   "version": "3.9.13"
  },
  "vscode": {
   "interpreter": {
    "hash": "cf70f4dc93a9a3190caa7906a926e12bef53a89cb456f2715f97cfb1e22f89f5"
   }
  }
 },
 "nbformat": 4,
 "nbformat_minor": 5
}
