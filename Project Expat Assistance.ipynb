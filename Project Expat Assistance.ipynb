{
 "cells": [
  {
   "cell_type": "markdown",
   "id": "c8b9d002",
   "metadata": {},
   "source": [
    "## Project Expat Assistance\n",
    "\n",
    "Starting with the Web Framework with Flask"
   ]
  },
  {
   "cell_type": "code",
   "execution_count": 40,
   "id": "517f8429",
   "metadata": {
    "scrolled": false
   },
   "outputs": [],
   "source": [
    "#installing the flask\n",
    "\n",
    "#remove in case flask is not installed\n",
    "#pip uninstall flask \n",
    "\n",
    "#in case upgrade needed\n",
    "#!pip install --upgrade flask\n",
    "\n",
    "#flask --version"
   ]
  },
  {
   "cell_type": "markdown",
   "id": "e9b28628",
   "metadata": {},
   "source": [
    "## Running Example code with Flask"
   ]
  },
  {
   "cell_type": "code",
   "execution_count": 3,
   "id": "54b77a1b",
   "metadata": {
    "scrolled": false
   },
   "outputs": [
    {
     "name": "stdout",
     "output_type": "stream",
     "text": [
      " * Serving Flask app \"__main__\" (lazy loading)\n",
      " * Environment: production\n",
      "\u001b[31m   WARNING: This is a development server. Do not use it in a production deployment.\u001b[0m\n",
      "\u001b[2m   Use a production WSGI server instead.\u001b[0m\n",
      " * Debug mode: off\n"
     ]
    },
    {
     "name": "stderr",
     "output_type": "stream",
     "text": [
      " * Running on http://localhost:8080/ (Press CTRL+C to quit)\n",
      "127.0.0.1 - - [18/Dec/2022 11:11:23] \"GET / HTTP/1.1\" 200 -\n"
     ]
    }
   ],
   "source": [
    "from flask import Flask, render_template  #importing libraries\n",
    "#from jinja2 import pass_context\n",
    "\n",
    "app = Flask(__name__)    #__name__ is communicating with Flask function for user's\n",
    "                         #current directory specification\n",
    "\n",
    "#routing in FLask\n",
    "@app.route(\"/\")          #Calling flask to route to the end of a website eg\"xcvb.com/\" to execute a code\n",
    "def Landing_Page():         #function Landing Page at/\n",
    "    try:\n",
    "        return render_template(\"home.html\")   #returning Hello World at the end (when someone visits the website (full usl ending with /))\n",
    "    except Exception as e:\n",
    "        return str(e)\n",
    "\n",
    "\n",
    "@app.route(\"/home\")\n",
    "def Home_Page():\n",
    "     return \"Help us to Help You!\"\n",
    "\n",
    "@app.route(\"/home/apply\")\n",
    "def Application_Page():\n",
    "     return \"Choose your way\"\n",
    "\n",
    "@app.route(\"/home/apply/trc\")\n",
    "def Apply_TRC():\n",
    "     return \"Submit your response here\"\n",
    "\n",
    "app.run(host='localhost', port=8080) #running app which is Flask at localhost at port 8080\n",
    "\n"
   ]
  }
 ],
 "metadata": {
  "kernelspec": {
   "display_name": "Python 3",
   "language": "python",
   "name": "python3"
  },
  "language_info": {
   "codemirror_mode": {
    "name": "ipython",
    "version": 3
   },
   "file_extension": ".py",
   "mimetype": "text/x-python",
   "name": "python",
   "nbconvert_exporter": "python",
   "pygments_lexer": "ipython3",
   "version": "3.8.8"
  }
 },
 "nbformat": 4,
 "nbformat_minor": 5
}
